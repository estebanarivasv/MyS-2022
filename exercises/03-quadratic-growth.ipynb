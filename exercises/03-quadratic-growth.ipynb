{
 "cells": [
  {
   "cell_type": "markdown",
   "metadata": {
    "pycharm": {
     "name": "#%% md\n"
    }
   },
   "source": [
    "# Modelo poblacional: crecimiento cuadrático [rk]\n",
    "\n",
    "<b>Deadline:</b> Friday, 15 de April de 2022, 23:59\n",
    "\n",
    "Dada la siguiente función de actualización / step de crecimiento neto cuadrático para el modelo poblacional:\n",
    "```\n",
    "def step_cuadratico(pop, t, sistema):\n",
    "    crecimiento_neto = sistema.alpha * pop[t] + sistema.beta * pop[t]**2\n",
    "    return pop[t] + crecimiento_neto\n",
    "```\n",
    "Reescribirla utilizando la notación de r y K, donde:\n",
    "\n",
    "- r: es la mayor tasa de crecimiento del modelo.\n",
    "- K: capacidad de carga del modelo.\n",
    "\n",
    "\n",
    "<b>Requisitos de la entrega</b>:\n",
    "La entrega deberá cumplir los siguientes requisitos:\n",
    "- El código deberá ser presentado en un repositorio git\n",
    "- Se creará un tag/release para la versión \"estable\" del programa entregable. El tag deberá ser creado antes de la fecha límite de presentación.\n",
    "\n",
    "Además del código propiamente dicho, y convenientemente ordenado, deberá contar con los siguientes archivos en el repositorio GIT:\n",
    "\n",
    "- <b>INSTALL.md</b>: contendrá las instrucciones para clonar e instalar/lanzar la aplicación.\n",
    "- <b>README.md</b>: contendrá la ayuda y uso básico de la aplicación.\n",
    "- <b>README.info</b>: contendrá un informe sobre las decisiones principales de diseñodel sistema, y su justificación (por qué usar tal o cual método, paquete, módulo, etc, y cómo se implementaron las reglas del juego de la vida.\n",
    "- <b>README.todo</b>: contendrá una lista detallada de mejoras características/features del sistema para futuras correcciones y versiones."
   ]
  },
  {
   "cell_type": "code",
   "execution_count": 10,
   "metadata": {
    "pycharm": {
     "name": "#%%\n"
    }
   },
   "outputs": [],
   "source": [
    "import modsim as ms\n",
    "import pandas\n",
    "import matplotlib as plt\n",
    "from matplotlib import pyplot"
   ]
  },
  {
   "cell_type": "markdown",
   "metadata": {
    "pycharm": {
     "name": "#%% md\n"
    }
   },
   "source": [
    "## Modelo poblacional cuadratico previo\n",
    "\n",
    "En el modelo poblacional cuadratico previo, se define la siguiente formula para calcular el crecimiento poblacional neto de una manera mas realista:\n",
    "\n",
    "```\n",
    "crecimiento_neto = sistema.alpha * pop[t] + sistema.beta * pop[t]**2\n",
    "```\n",
    "Donde `alpha` y `beta` representan las raices del modelo cuadratico.\n",
    "\n",
    "Entonces:"
   ]
  },
  {
   "cell_type": "code",
   "execution_count": 11,
   "metadata": {
    "pycharm": {
     "name": "#%%\n"
    }
   },
   "outputs": [],
   "source": [
    "def step_cuadratico(pop, t, sistema):\n",
    "    crecimiento_neto = sistema.alpha * pop[t] + sistema.beta * pop[t]**2\n",
    "    return pop[t] + crecimiento_neto"
   ]
  },
  {
   "cell_type": "code",
   "execution_count": 12,
   "metadata": {
    "pycharm": {
     "name": "#%%\n"
    }
   },
   "outputs": [],
   "source": [
    "# Funcion que incrementa los valores de la poblacion\n",
    "def run_simulation(sistema, step_func):\n",
    "    resultado = ms.TimeSeries()\n",
    "    resultado[sistema.t_0] = sistema.p_0\n",
    "    \n",
    "    for t in ms.linrange(sistema.t_0, sistema.t_end):\n",
    "        resultado[t+1] = step_func(resultado, t, sistema)\n",
    "\n",
    "    return resultado"
   ]
  },
  {
   "cell_type": "code",
   "execution_count": 13,
   "metadata": {
    "pycharm": {
     "name": "#%%\n"
    }
   },
   "outputs": [],
   "source": [
    "def plot_resultado(censo, un, resultado, titulo):\n",
    "    pyplot.clf()\n",
    "    ms.plot(resultado, '-', label=\"Modelo\")\n",
    "    ms.plot(censo, ':', label=\"Censo EEUU\")\n",
    "    ms.plot(un, '--', label=\"Censo Naciones Unidas\")\n",
    "    ms.decorate(title=titulo, xlabel='Año', ylabel='Poblacion en miles de millones')\n",
    "    pyplot.show()"
   ]
  },
  {
   "cell_type": "code",
   "execution_count": 14,
   "metadata": {
    "pycharm": {
     "name": "#%%\n"
    }
   },
   "outputs": [
    {
     "data": {
      "text/html": [
       "<div>\n",
       "<style scoped>\n",
       "    .dataframe tbody tr th:only-of-type {\n",
       "        vertical-align: middle;\n",
       "    }\n",
       "\n",
       "    .dataframe tbody tr th {\n",
       "        vertical-align: top;\n",
       "    }\n",
       "\n",
       "    .dataframe thead th {\n",
       "        text-align: right;\n",
       "    }\n",
       "</style>\n",
       "<table border=\"1\" class=\"dataframe\">\n",
       "  <thead>\n",
       "    <tr style=\"text-align: right;\">\n",
       "      <th></th>\n",
       "      <th>census</th>\n",
       "      <th>prb</th>\n",
       "      <th>un</th>\n",
       "      <th>maddison</th>\n",
       "      <th>hyde</th>\n",
       "      <th>tanton</th>\n",
       "      <th>biraben</th>\n",
       "      <th>mj</th>\n",
       "      <th>thomlinson</th>\n",
       "      <th>durand</th>\n",
       "      <th>clark</th>\n",
       "    </tr>\n",
       "    <tr>\n",
       "      <th>Year</th>\n",
       "      <th></th>\n",
       "      <th></th>\n",
       "      <th></th>\n",
       "      <th></th>\n",
       "      <th></th>\n",
       "      <th></th>\n",
       "      <th></th>\n",
       "      <th></th>\n",
       "      <th></th>\n",
       "      <th></th>\n",
       "      <th></th>\n",
       "    </tr>\n",
       "  </thead>\n",
       "  <tbody>\n",
       "    <tr>\n",
       "      <th>1950</th>\n",
       "      <td>2557628654</td>\n",
       "      <td>2.516000e+09</td>\n",
       "      <td>2.525149e+09</td>\n",
       "      <td>2.544000e+09</td>\n",
       "      <td>2.527960e+09</td>\n",
       "      <td>2.400000e+09</td>\n",
       "      <td>2.527000e+09</td>\n",
       "      <td>2.500000e+09</td>\n",
       "      <td>2.400000e+09</td>\n",
       "      <td>NaN</td>\n",
       "      <td>2.486000e+09</td>\n",
       "    </tr>\n",
       "    <tr>\n",
       "      <th>1951</th>\n",
       "      <td>2594939877</td>\n",
       "      <td>NaN</td>\n",
       "      <td>2.572851e+09</td>\n",
       "      <td>2.571663e+09</td>\n",
       "      <td>NaN</td>\n",
       "      <td>NaN</td>\n",
       "      <td>NaN</td>\n",
       "      <td>NaN</td>\n",
       "      <td>NaN</td>\n",
       "      <td>NaN</td>\n",
       "      <td>NaN</td>\n",
       "    </tr>\n",
       "    <tr>\n",
       "      <th>1952</th>\n",
       "      <td>2636772306</td>\n",
       "      <td>NaN</td>\n",
       "      <td>2.619292e+09</td>\n",
       "      <td>2.617949e+09</td>\n",
       "      <td>NaN</td>\n",
       "      <td>NaN</td>\n",
       "      <td>NaN</td>\n",
       "      <td>NaN</td>\n",
       "      <td>NaN</td>\n",
       "      <td>NaN</td>\n",
       "      <td>NaN</td>\n",
       "    </tr>\n",
       "    <tr>\n",
       "      <th>1953</th>\n",
       "      <td>2682053389</td>\n",
       "      <td>NaN</td>\n",
       "      <td>2.665865e+09</td>\n",
       "      <td>2.665959e+09</td>\n",
       "      <td>NaN</td>\n",
       "      <td>NaN</td>\n",
       "      <td>NaN</td>\n",
       "      <td>NaN</td>\n",
       "      <td>NaN</td>\n",
       "      <td>NaN</td>\n",
       "      <td>NaN</td>\n",
       "    </tr>\n",
       "    <tr>\n",
       "      <th>1954</th>\n",
       "      <td>2730228104</td>\n",
       "      <td>NaN</td>\n",
       "      <td>2.713172e+09</td>\n",
       "      <td>2.716927e+09</td>\n",
       "      <td>NaN</td>\n",
       "      <td>NaN</td>\n",
       "      <td>NaN</td>\n",
       "      <td>NaN</td>\n",
       "      <td>NaN</td>\n",
       "      <td>NaN</td>\n",
       "      <td>NaN</td>\n",
       "    </tr>\n",
       "    <tr>\n",
       "      <th>...</th>\n",
       "      <td>...</td>\n",
       "      <td>...</td>\n",
       "      <td>...</td>\n",
       "      <td>...</td>\n",
       "      <td>...</td>\n",
       "      <td>...</td>\n",
       "      <td>...</td>\n",
       "      <td>...</td>\n",
       "      <td>...</td>\n",
       "      <td>...</td>\n",
       "      <td>...</td>\n",
       "    </tr>\n",
       "    <tr>\n",
       "      <th>2012</th>\n",
       "      <td>7013871313</td>\n",
       "      <td>7.057075e+09</td>\n",
       "      <td>7.080072e+09</td>\n",
       "      <td>NaN</td>\n",
       "      <td>NaN</td>\n",
       "      <td>NaN</td>\n",
       "      <td>NaN</td>\n",
       "      <td>NaN</td>\n",
       "      <td>NaN</td>\n",
       "      <td>NaN</td>\n",
       "      <td>NaN</td>\n",
       "    </tr>\n",
       "    <tr>\n",
       "      <th>2013</th>\n",
       "      <td>7092128094</td>\n",
       "      <td>7.136796e+09</td>\n",
       "      <td>7.162119e+09</td>\n",
       "      <td>NaN</td>\n",
       "      <td>NaN</td>\n",
       "      <td>NaN</td>\n",
       "      <td>NaN</td>\n",
       "      <td>NaN</td>\n",
       "      <td>NaN</td>\n",
       "      <td>NaN</td>\n",
       "      <td>NaN</td>\n",
       "    </tr>\n",
       "    <tr>\n",
       "      <th>2014</th>\n",
       "      <td>7169968185</td>\n",
       "      <td>7.238184e+09</td>\n",
       "      <td>7.243784e+09</td>\n",
       "      <td>NaN</td>\n",
       "      <td>NaN</td>\n",
       "      <td>NaN</td>\n",
       "      <td>NaN</td>\n",
       "      <td>NaN</td>\n",
       "      <td>NaN</td>\n",
       "      <td>NaN</td>\n",
       "      <td>NaN</td>\n",
       "    </tr>\n",
       "    <tr>\n",
       "      <th>2015</th>\n",
       "      <td>7247892788</td>\n",
       "      <td>7.336435e+09</td>\n",
       "      <td>7.349472e+09</td>\n",
       "      <td>NaN</td>\n",
       "      <td>NaN</td>\n",
       "      <td>NaN</td>\n",
       "      <td>NaN</td>\n",
       "      <td>NaN</td>\n",
       "      <td>NaN</td>\n",
       "      <td>NaN</td>\n",
       "      <td>NaN</td>\n",
       "    </tr>\n",
       "    <tr>\n",
       "      <th>2016</th>\n",
       "      <td>7325996709</td>\n",
       "      <td>7.418152e+09</td>\n",
       "      <td>NaN</td>\n",
       "      <td>NaN</td>\n",
       "      <td>NaN</td>\n",
       "      <td>NaN</td>\n",
       "      <td>NaN</td>\n",
       "      <td>NaN</td>\n",
       "      <td>NaN</td>\n",
       "      <td>NaN</td>\n",
       "      <td>NaN</td>\n",
       "    </tr>\n",
       "  </tbody>\n",
       "</table>\n",
       "<p>67 rows × 11 columns</p>\n",
       "</div>"
      ],
      "text/plain": [
       "          census           prb            un      maddison          hyde  \\\n",
       "Year                                                                       \n",
       "1950  2557628654  2.516000e+09  2.525149e+09  2.544000e+09  2.527960e+09   \n",
       "1951  2594939877           NaN  2.572851e+09  2.571663e+09           NaN   \n",
       "1952  2636772306           NaN  2.619292e+09  2.617949e+09           NaN   \n",
       "1953  2682053389           NaN  2.665865e+09  2.665959e+09           NaN   \n",
       "1954  2730228104           NaN  2.713172e+09  2.716927e+09           NaN   \n",
       "...          ...           ...           ...           ...           ...   \n",
       "2012  7013871313  7.057075e+09  7.080072e+09           NaN           NaN   \n",
       "2013  7092128094  7.136796e+09  7.162119e+09           NaN           NaN   \n",
       "2014  7169968185  7.238184e+09  7.243784e+09           NaN           NaN   \n",
       "2015  7247892788  7.336435e+09  7.349472e+09           NaN           NaN   \n",
       "2016  7325996709  7.418152e+09           NaN           NaN           NaN   \n",
       "\n",
       "            tanton       biraben            mj    thomlinson durand  \\\n",
       "Year                                                                  \n",
       "1950  2.400000e+09  2.527000e+09  2.500000e+09  2.400000e+09    NaN   \n",
       "1951           NaN           NaN           NaN           NaN    NaN   \n",
       "1952           NaN           NaN           NaN           NaN    NaN   \n",
       "1953           NaN           NaN           NaN           NaN    NaN   \n",
       "1954           NaN           NaN           NaN           NaN    NaN   \n",
       "...            ...           ...           ...           ...    ...   \n",
       "2012           NaN           NaN           NaN           NaN    NaN   \n",
       "2013           NaN           NaN           NaN           NaN    NaN   \n",
       "2014           NaN           NaN           NaN           NaN    NaN   \n",
       "2015           NaN           NaN           NaN           NaN    NaN   \n",
       "2016           NaN           NaN           NaN           NaN    NaN   \n",
       "\n",
       "             clark  \n",
       "Year                \n",
       "1950  2.486000e+09  \n",
       "1951           NaN  \n",
       "1952           NaN  \n",
       "1953           NaN  \n",
       "1954           NaN  \n",
       "...            ...  \n",
       "2012           NaN  \n",
       "2013           NaN  \n",
       "2014           NaN  \n",
       "2015           NaN  \n",
       "2016           NaN  \n",
       "\n",
       "[67 rows x 11 columns]"
      ]
     },
     "execution_count": 14,
     "metadata": {},
     "output_type": "execute_result"
    }
   ],
   "source": [
    "wiki = \"https://en.wikipedia.org/wiki/Estimates_of_historical_world_population\"\n",
    "\n",
    "tablas = pandas.read_html(wiki, header=0,index_col=0, decimal='M')\n",
    "\n",
    "# Traemos los datos\n",
    "tabla2 = tablas[2]\n",
    "tabla2.columns = ['census', 'prb', 'un', 'maddison', 'hyde', 'tanton', 'biraben', 'mj','thomlinson', 'durand', 'clark' ]\n",
    "\n",
    "censo = tabla2.census/1e9\n",
    "un = tabla2.un/1e9\n",
    "\n",
    "tabla2"
   ]
  },
  {
   "cell_type": "code",
   "execution_count": 15,
   "metadata": {
    "pycharm": {
     "name": "#%%\n"
    }
   },
   "outputs": [
    {
     "data": {
      "image/png": "[encoded data removed]",
      "text/plain": [
       "<Figure size 432x288 with 1 Axes>"
      ]
     },
     "metadata": {},
     "output_type": "display_data"
    }
   ],
   "source": [
    "t_0 = ms.get_first_label(censo)\n",
    "t_end = ms.get_last_label(censo)\n",
    "p_0 = censo[t_0]\n",
    "p_end = censo[t_end]\n",
    "\n",
    "diferencia_tiempo = t_end - t_0\n",
    "crecimiento_total = p_end - p_0\n",
    "crecimiento_anual = crecimiento_total / diferencia_tiempo\n",
    "\n",
    "sistema = ms.System(\n",
    "        t_0 = t_0,\n",
    "        t_end = t_end,\n",
    "        crecimiento_anual = crecimiento_anual,\n",
    "        p_0 = p_0,\n",
    "        tasa_nat = 0.027,\n",
    "        tasa_mort = 0.01,\n",
    "        alpha = 0.025,\n",
    "        beta = -0.0018)\n",
    "\n",
    "\n",
    "res = run_simulation(sistema, step_cuadratico)\n",
    "plot_resultado(censo, un, res, \"Modelo cuadrático\")"
   ]
  },
  {
   "cell_type": "markdown",
   "metadata": {
    "pycharm": {
     "name": "#%%\n"
    }
   },
   "source": [
    "## Reescribiendo la funcion step\n",
    "Para interpretar la funcion mas facilmente, definimos a `r` como la tasa máxima de crecimiento del modelo y a `K` como capacidad de carga del modelo, es decir, la capacidad máxima que el modelo puede sustentar. A ambas variables las definimos de la siguiente manera:\n",
    "\n",
    "$$\n",
    "r = \\alpha \\newline\n",
    "K = - \\alpha / \\beta\n",
    "$$\n",
    "\n",
    "Nos queda entonces una funcion incremento resultante mas facil de implementar descrita de la siguiente manera:"
   ]
  },
  {
   "cell_type": "code",
   "execution_count": 19,
   "metadata": {
    "pycharm": {
     "name": "#%%\n"
    }
   },
   "outputs": [],
   "source": [
    "def step_cuadratico_nuevo(pop, t, sistema):\n",
    "    r = sistema.alpha\n",
    "    K = - sistema.alpha / sistema.beta\n",
    "    crecimiento_neto = r * pop[t] * (1 - pop[t] / K)\n",
    "    return pop[t] + crecimiento_neto"
   ]
  },
  {
   "cell_type": "code",
   "execution_count": 20,
   "metadata": {},
   "outputs": [
    {
     "data": {
      "image/png": "[encoded data removed]",
      "text/plain": [
       "<Figure size 432x288 with 1 Axes>"
      ]
     },
     "metadata": {},
     "output_type": "display_data"
    }
   ],
   "source": [
    "res = run_simulation(sistema, step_cuadratico_nuevo)\n",
    "plot_resultado(censo, un, res, \"Modelo cuadrático\")"
   ]
  },
  {
   "cell_type": "markdown",
   "metadata": {},
   "source": [
    "La funcion no modifica los valores. Permite plantear mas facilmente el incremento."
   ]
  }
 ],
 "metadata": {
  "kernelspec": {
   "display_name": "Python 3",
   "language": "python",
   "name": "python3"
  },
  "language_info": {
   "codemirror_mode": {
    "name": "ipython",
    "version": 3
   },
   "file_extension": ".py",
   "mimetype": "text/x-python",
   "name": "python",
   "nbconvert_exporter": "python",
   "pygments_lexer": "ipython3",
   "version": "3.8.13"
  }
 },
 "nbformat": 4,
 "nbformat_minor": 2
}