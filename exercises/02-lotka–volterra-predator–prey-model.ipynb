{
 "cells": [
  {
   "cell_type": "markdown",
   "metadata": {},
   "source": [
    "## Caso Predador-Presa (Lotka-Volterra) - [TAG: predadorpresa]\n",
    "\n",
    "<b>Deadline:</b> Friday, 15 de April de 2022, 23:59\n",
    "\n",
    "Realizar un programa interactivo del caso presa-predador visto en practicas anteriores, que permita estudiar las salidas del programa cuando se cambien las condiciones de contornos y parámetros de entrada. Graficar en pantalla los diagramas poblacionales y el diagrama de fase.\n",
    "\n",
    "Considere los parámetros de natalidad de liebres y mortalidad de zorros analizados en el caso para una población ideal de 500 liebres y 10 zorros (ver apuntes de cátedra).\n",
    "\n",
    "Deberá presentar un <b>informe</b> que contenga (archivo README.info o un pdf):\n",
    "- Una explicación de los algoritmos principales utilizados en el programa.\n",
    "- Pruebas de simulación:\n",
    "    - Una simulación con los valores por defecto: 2500 liebres y 2 zorros.\n",
    "    - Dos simulaciones distintas cambiando las condiciones iniciales.\n",
    "    - Para cada caso realizar una interpretación de los gráficos de comportamiento de las poblaciones, incluyendo capturas de los gráficos poblacionales y de diagrama de fase.\n",
    "\n",
    "<b>Entrega</b>:\n",
    "La entrega deberá cumplir los siguientes requisitos:\n",
    "- El código deberá ser presentado en un repositorio git\n",
    "- Se creará un tag/release para la versión \"estable\" del programa entregable. El tag deberá ser creado antes de la fecha límite de presentación.\n",
    "\n",
    "Además del código propiamente dicho, y convenientemente ordenado, deberá contar con los siguientes archivos en el repositorio GIT:\n",
    "\n",
    "- <b>INSTALL.md</b>: contendrá las instrucciones para clonar e instalar/lanzar la aplicación.\n",
    "- <b>README.md</b>: contendrá la ayuda y uso básico de la aplicación.\n",
    "- <b>README.info</b>: contendrá un informe sobre las decisiones principales de diseñodel sistema, y su justificación (por qué usar tal o cual método, paquete, módulo, etc, y cómo se implementaron las reglas del juego de la vida.\n",
    "- <b>README.todo</b>: contendrá una lista detallada de mejoras características/features del sistema para futuras correcciones y versiones."
   ]
  },
  {
   "cell_type": "markdown",
   "metadata": {},
   "source": [
    "# Resolución"
   ]
  }
 ],
 "metadata": {
  "kernelspec": {
   "display_name": "Python 3 (ipykernel)",
   "language": "python",
   "name": "python3"
  },
  "language_info": {
   "codemirror_mode": {
    "name": "ipython",
    "version": 3
   },
   "file_extension": ".py",
   "mimetype": "text/x-python",
   "name": "python",
   "nbconvert_exporter": "python",
   "pygments_lexer": "ipython3",
   "version": "3.9.12"
  }
 },
 "nbformat": 4,
 "nbformat_minor": 1
}