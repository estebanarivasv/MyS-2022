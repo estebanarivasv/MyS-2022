{
 "cells": [
  {
   "cell_type": "markdown",
   "metadata": {
    "pycharm": {
     "name": "#%% md\n"
    }
   },
   "source": [
    "# Resolucion de ecuaciones difeenciales con sympy [sympy]\n",
    "\n",
    "<b>Deadline:</b> Tuesday, 24 de May de 2022, 00:00\n",
    "\n",
    "Dada la siguiente representación alternativa de la ecuación cuadrática del sistema poblacional, resolverla utilizando el módulo sympy de Python3:\n",
    "\n",
    "$$\n",
    "\\frac{\\mathrm{d} x(t)}{\\mathrm{d} x} = \\alpha x_n + \\beta x_n^2\n",
    "$$\n",
    "\n",
    "\n",
    "Entregar un programa Python que:\n",
    "1. Resuelva la ecuación paso a paso y muestre el resultado final por pantalla.\n",
    "2. Tenga documentadas las funciones creadas y la secuencia de pasos hasta alcanzar el resultado.\n",
    "3. Explicación breve qué representa la ecuación, y una breve introducción al código que resuelve el problema.\n",
    "\n",
    "\n",
    "<b>Requisitos de la entrega</b>:\n",
    "La entrega deberá cumplir los siguientes requisitos:\n",
    "- El código deberá ser presentado en un repositorio git\n",
    "- Se creará un tag/release para la versión \"estable\" del programa entregable. El tag deberá ser creado antes de la fecha límite de presentación.\n",
    "\n",
    "Además del código propiamente dicho, y convenientemente ordenado, deberá contar con los siguientes archivos en el repositorio GIT:\n",
    "\n",
    "- <b>INSTALL.md</b>: contendrá las instrucciones para clonar e instalar/lanzar la aplicación.\n",
    "- <b>README.md</b>: contendrá la ayuda y uso básico de la aplicación.\n",
    "- <b>README.info</b>: contendrá un informe sobre las decisiones principales de diseñodel sistema, y su justificación (por qué usar tal o cual método, paquete, módulo, etc, y cómo se implementaron las reglas del juego de la vida.\n",
    "- <b>README.todo</b>: contendrá una lista detallada de mejoras características/features del sistema para futuras correcciones y versiones."
   ]
  },
  {
   "cell_type": "code",
   "execution_count": 21,
   "metadata": {
    "pycharm": {
     "name": "#%%\n"
    }
   },
   "outputs": [],
   "source": [
    "import sympy as sp"
   ]
  },
  {
   "cell_type": "markdown",
   "source": [
    "Primero armamos el lado izquierdo de la ecuacion diferencial"
   ],
   "metadata": {
    "collapsed": false,
    "pycharm": {
     "name": "#%% md\n"
    }
   }
  },
  {
   "cell_type": "code",
   "execution_count": 22,
   "outputs": [
    {
     "data": {
      "text/plain": "Derivative(x(t), t)",
      "text/latex": "$\\displaystyle \\frac{d}{d t} x{\\left(t \\right)}$"
     },
     "execution_count": 22,
     "metadata": {},
     "output_type": "execute_result"
    }
   ],
   "source": [
    "t = sp.symbols(\"t\")\n",
    "x = sp.Function(\"x\")\n",
    "\n",
    "dxdt = sp.diff(x(t),t)\n",
    "dxdt"
   ],
   "metadata": {
    "collapsed": false,
    "pycharm": {
     "name": "#%%\n"
    }
   }
  },
  {
   "cell_type": "markdown",
   "source": [
    "Definimos las variables alfa y beta del modelo cuadrático, para armar la parte derecha de la ecuacion.\n",
    "\n",
    "Después, relacionamos todos los elementos para armar la ecuacion a calcular su derivada de primer grado"
   ],
   "metadata": {
    "collapsed": false,
    "pycharm": {
     "name": "#%% md\n"
    }
   }
  },
  {
   "cell_type": "code",
   "execution_count": 23,
   "outputs": [
    {
     "data": {
      "text/plain": "Eq(Derivative(x(t), t), \\alpha*x(t) + \\beta*x(t)**2)",
      "text/latex": "$\\displaystyle \\frac{d}{d t} x{\\left(t \\right)} = \\alpha x{\\left(t \\right)} + \\beta x^{2}{\\left(t \\right)}$"
     },
     "execution_count": 23,
     "metadata": {},
     "output_type": "execute_result"
    }
   ],
   "source": [
    "alpha = sp.symbols(r\"\\alpha\")\n",
    "beta = sp.symbols(r\"\\beta\")\n",
    "\n",
    "ecuacion_diferencial = sp.Eq(dxdt, alpha * x(t) + beta * x(t) ** 2)\n",
    "ecuacion_diferencial"
   ],
   "metadata": {
    "collapsed": false,
    "pycharm": {
     "name": "#%%\n"
    }
   }
  },
  {
   "cell_type": "markdown",
   "source": [
    "Obtenemos el valor de la derivada de primer grado"
   ],
   "metadata": {
    "collapsed": false,
    "pycharm": {
     "name": "#%% md\n"
    }
   }
  },
  {
   "cell_type": "code",
   "execution_count": 24,
   "outputs": [
    {
     "data": {
      "text/plain": "Eq(x(t), \\alpha*exp(\\alpha*(C1 + t))/(\\beta*(1 - exp(\\alpha*(C1 + t)))))",
      "text/latex": "$\\displaystyle x{\\left(t \\right)} = \\frac{\\alpha e^{\\alpha \\left(C_{1} + t\\right)}}{\\beta \\left(1 - e^{\\alpha \\left(C_{1} + t\\right)}\\right)}$"
     },
     "execution_count": 24,
     "metadata": {},
     "output_type": "execute_result"
    }
   ],
   "source": [
    "derivada_prim_grado = sp.dsolve(ecuacion_diferencial)\n",
    "derivada_prim_grado"
   ],
   "metadata": {
    "collapsed": false,
    "pycharm": {
     "name": "#%%\n"
    }
   }
  },
  {
   "cell_type": "markdown",
   "source": [
    "Queremos evaluar a la ecuacion cuando $t=0$, por lo tanto, guardamos la parte derecha de la ecuacion y la evaluamos en el tiempo inicial."
   ],
   "metadata": {
    "collapsed": false,
    "pycharm": {
     "name": "#%% md\n"
    }
   }
  },
  {
   "cell_type": "code",
   "execution_count": 25,
   "outputs": [
    {
     "data": {
      "text/plain": "\\alpha*exp(C1*\\alpha)/(\\beta*(1 - exp(C1*\\alpha)))",
      "text/latex": "$\\displaystyle \\frac{\\alpha e^{C_{1} \\alpha}}{\\beta \\left(1 - e^{C_{1} \\alpha}\\right)}$"
     },
     "execution_count": 25,
     "metadata": {},
     "output_type": "execute_result"
    }
   ],
   "source": [
    "parte_derecha = derivada_prim_grado.rhs\n",
    "at0 = parte_derecha.subs(t, 0)\n",
    "at0"
   ],
   "metadata": {
    "collapsed": false,
    "pycharm": {
     "name": "#%%\n"
    }
   }
  },
  {
   "cell_type": "markdown",
   "source": [
    "Entonces, este valor obtenido nos el valor de la poblacion inicial $x_0$ ya que estamos evaluando la ecuacion en $t_0$.\n",
    "\n",
    "Creamos entonces los simbolos $C_1$ y $x_0$ para poder plantear la ecuacion algebraica que nos servirá para reemplazar $C_1$ en la parte derecha de la ecuacion general."
   ],
   "metadata": {
    "collapsed": false,
    "pycharm": {
     "name": "#%% md\n"
    }
   }
  },
  {
   "cell_type": "code",
   "execution_count": 26,
   "outputs": [
    {
     "data": {
      "text/plain": "Eq(\\alpha*exp(C1*\\alpha)/(\\beta*(1 - exp(C1*\\alpha))), x_0)",
      "text/latex": "$\\displaystyle \\frac{\\alpha e^{C_{1} \\alpha}}{\\beta \\left(1 - e^{C_{1} \\alpha}\\right)} = x_{0}$"
     },
     "execution_count": 26,
     "metadata": {},
     "output_type": "execute_result"
    }
   ],
   "source": [
    "C1, x_0 = sp.symbols(\"C1 x_0\")\n",
    "\n",
    "ec_algebraica = sp.Eq(at0, x_0)\n",
    "ec_algebraica"
   ],
   "metadata": {
    "collapsed": false,
    "pycharm": {
     "name": "#%%\n"
    }
   }
  },
  {
   "cell_type": "markdown",
   "source": [
    "Resolvemos la ecuacion algebraica"
   ],
   "metadata": {
    "collapsed": false,
    "pycharm": {
     "name": "#%% md\n"
    }
   }
  },
  {
   "cell_type": "code",
   "execution_count": 27,
   "outputs": [
    {
     "data": {
      "text/plain": "log(\\beta*x_0/(\\alpha + \\beta*x_0))/\\alpha",
      "text/latex": "$\\displaystyle \\frac{\\log{\\left(\\frac{\\beta x_{0}}{\\alpha + \\beta x_{0}} \\right)}}{\\alpha}$"
     },
     "execution_count": 27,
     "metadata": {},
     "output_type": "execute_result"
    }
   ],
   "source": [
    "solucionC1 = sp.solve(ec_algebraica, C1)[0]\n",
    "solucionC1"
   ],
   "metadata": {
    "collapsed": false,
    "pycharm": {
     "name": "#%%\n"
    }
   }
  },
  {
   "cell_type": "markdown",
   "source": [
    "Reemplazamos la solucion obtenida en la parte derecha de la ecuacion general, para obtener la solución particular."
   ],
   "metadata": {
    "collapsed": false,
    "pycharm": {
     "name": "#%% md\n"
    }
   }
  },
  {
   "cell_type": "code",
   "execution_count": 28,
   "outputs": [
    {
     "data": {
      "text/plain": "\\alpha*x_0*exp(\\alpha*t)/(\\alpha - \\beta*x_0*exp(\\alpha*t) + \\beta*x_0)",
      "text/latex": "$\\displaystyle \\frac{\\alpha x_{0} e^{\\alpha t}}{\\alpha - \\beta x_{0} e^{\\alpha t} + \\beta x_{0}}$"
     },
     "execution_count": 28,
     "metadata": {},
     "output_type": "execute_result"
    }
   ],
   "source": [
    "sol_particular = parte_derecha.subs(C1, solucionC1)\n",
    "sol_particular = sp.simplify(sol_particular)\n",
    "sol_particular"
   ],
   "metadata": {
    "collapsed": false,
    "pycharm": {
     "name": "#%%\n"
    }
   }
  },
  {
   "cell_type": "markdown",
   "source": [
    "Como podemos ver, si reemplazamos el valor de $t=0$, obtenemos la poblacion inicial $x_0$"
   ],
   "metadata": {
    "collapsed": false,
    "pycharm": {
     "name": "#%% md\n"
    }
   }
  },
  {
   "cell_type": "code",
   "execution_count": 29,
   "outputs": [
    {
     "data": {
      "text/plain": "x_0",
      "text/latex": "$\\displaystyle x_{0}$"
     },
     "execution_count": 29,
     "metadata": {},
     "output_type": "execute_result"
    }
   ],
   "source": [
    "sol_particular.subs(t, 0)"
   ],
   "metadata": {
    "collapsed": false,
    "pycharm": {
     "name": "#%%\n"
    }
   }
  },
  {
   "cell_type": "markdown",
   "source": [
    "Si queremos analizar el desempeño de la funcion en valores especificos, podemos compararla con los valores historicos de EE.UU y de las Naciones Unidas. Tengamos en cuenta que el año donde se empieza a tener un registro poblacional es el año 1950, por lo que éste sera nuestro $t_0$\n",
    "\n",
    "1. Compararemos los resultados del año 2010\n",
    "2. Compararemos los resultados del año 1980"
   ],
   "metadata": {
    "collapsed": false,
    "pycharm": {
     "name": "#%% md\n"
    }
   }
  },
  {
   "cell_type": "code",
   "execution_count": 30,
   "outputs": [
    {
     "data": {
      "text/plain": "6.98837183188134",
      "text/latex": "$\\displaystyle 6.98837183188134$"
     },
     "execution_count": 30,
     "metadata": {},
     "output_type": "execute_result"
    }
   ],
   "source": [
    "valores = [(alpha, 0.025), (beta, -0.0018), (x_0, 2.56), (t, 60)]\n",
    "en_t60 = sol_particular.subs(valores)\n",
    "en_t60"
   ],
   "metadata": {
    "collapsed": false,
    "pycharm": {
     "name": "#%%\n"
    }
   }
  },
  {
   "cell_type": "code",
   "execution_count": 31,
   "outputs": [
    {
     "data": {
      "text/plain": "4.49422461620145",
      "text/latex": "$\\displaystyle 4.49422461620145$"
     },
     "execution_count": 31,
     "metadata": {},
     "output_type": "execute_result"
    }
   ],
   "source": [
    "valores = [(alpha, 0.025), (beta, -0.0018), (x_0, 2.56), (t, 30)]\n",
    "en_t30 = sol_particular.subs(valores)\n",
    "en_t30"
   ],
   "metadata": {
    "collapsed": false,
    "pycharm": {
     "name": "#%%\n"
    }
   }
  },
  {
   "cell_type": "markdown",
   "source": [
    "**Conclusiones:**\n",
    "- Para el año **2010**, las poblaciones que se obtuvieron fueron las siguientes (en mil millones): EEUU: 6,858, NU: 6,916, Derivada de ec cuadratica: 6,988\n",
    "- Para el año **1980**, las poblaciones que se obtuvieron fueron las siguientes (en mil millones): EEUU: 4,451, NU: 4,449, Derivada de ec cuadratica: 4.494"
   ],
   "metadata": {
    "collapsed": false,
    "pycharm": {
     "name": "#%% md\n"
    }
   }
  },
  {
   "cell_type": "markdown",
   "source": [
    "Podemos concluir entonces, que este modelo no está tan alejado de la realidad comparando los datos obtenidos."
   ],
   "metadata": {
    "collapsed": false,
    "pycharm": {
     "name": "#%% md\n"
    }
   }
  },
  {
   "cell_type": "code",
   "execution_count": 6,
   "metadata": {},
   "outputs": [
    {
     "data": {
      "text/latex": [
       "$\\displaystyle \\frac{\\alpha e^{C_{1} \\alpha}}{\\beta \\left(1 - e^{C_{1} \\alpha}\\right)} = x_{0}$"
      ],
      "text/plain": [
       "Eq(\\alpha*exp(C1*\\alpha)/(\\beta*(1 - exp(C1*\\alpha))), x_0)"
      ]
     },
     "execution_count": 6,
     "metadata": {},
     "output_type": "execute_result"
    }
   ],
   "source": [
    "C1, x_0 = sp.symbols(\"C1 x_0\")\n",
    "\n",
    "ec_algebraica = sp.Eq(at0, x_0)\n",
    "ec_algebraica"
   ]
  },
  {
   "cell_type": "markdown",
   "metadata": {},
   "source": [
    "Resolvemos la ecuacion algebraica"
   ]
  },
  {
   "cell_type": "code",
   "execution_count": 7,
   "metadata": {},
   "outputs": [
    {
     "data": {
      "text/latex": [
       "$\\displaystyle \\frac{\\log{\\left(\\frac{\\beta x_{0}}{\\alpha + \\beta x_{0}} \\right)}}{\\alpha}$"
      ],
      "text/plain": [
       "log(\\beta*x_0/(\\alpha + \\beta*x_0))/\\alpha"
      ]
     },
     "execution_count": 7,
     "metadata": {},
     "output_type": "execute_result"
    }
   ],
   "source": [
    "solucionC1 = sp.solve(ec_algebraica, C1)[0]\n",
    "solucionC1"
   ]
  },
  {
   "cell_type": "markdown",
   "metadata": {},
   "source": [
    "Reemplazamos la solucion obtenida en la parte derecha de la ecuacion general, para obtener la solución particular."
   ]
  },
  {
   "cell_type": "code",
   "execution_count": 8,
   "metadata": {},
   "outputs": [
    {
     "data": {
      "text/latex": [
       "$\\displaystyle \\frac{\\alpha x_{0} e^{\\alpha t}}{\\alpha - \\beta x_{0} e^{\\alpha t} + \\beta x_{0}}$"
      ],
      "text/plain": [
       "\\alpha*x_0*exp(\\alpha*t)/(\\alpha - \\beta*x_0*exp(\\alpha*t) + \\beta*x_0)"
      ]
     },
     "execution_count": 8,
     "metadata": {},
     "output_type": "execute_result"
    }
   ],
   "source": [
    "sol_particular = parte_derecha.subs(C1, solucionC1)\n",
    "sol_particular = sp.simplify(sol_particular)\n",
    "sol_particular"
   ]
  },
  {
   "cell_type": "markdown",
   "metadata": {},
   "source": [
    "Como podemos ver, si reemplazamos el valor de $t=0$, obtenemos la poblacion inicial $x_0$"
   ]
  },
  {
   "cell_type": "code",
   "execution_count": 9,
   "metadata": {},
   "outputs": [
    {
     "data": {
      "text/latex": [
       "$\\displaystyle x_{0}$"
      ],
      "text/plain": [
       "x_0"
      ]
     },
     "execution_count": 9,
     "metadata": {},
     "output_type": "execute_result"
    }
   ],
   "source": [
    "sol_particular.subs(t, 0)"
   ]
  },
  {
   "cell_type": "markdown",
   "metadata": {},
   "source": [
    "Si queremos analizar el desempeño de la funcion en valores especificos, podemos compararla con los valores historicos de EE.UU y de las Naciones Unidas. Tengamos en cuenta que el año donde se empieza a tener un registro poblacional es el año 1950, por lo que éste sera nuestro $t_0$\n",
    "\n",
    "1. Compararemos los resultados del año 2010\n",
    "2. Compararemos los resultados del año 1980"
   ]
  },
  {
   "cell_type": "code",
   "execution_count": 18,
   "metadata": {
    "pycharm": {
     "is_executing": true,
     "name": "#%%\n"
    }
   },
   "outputs": [
    {
     "data": {
      "text/latex": [
       "$\\displaystyle 6.98837183188134$"
      ],
      "text/plain": [
       "6.98837183188134"
      ]
     },
     "execution_count": 18,
     "metadata": {},
     "output_type": "execute_result"
    }
   ],
   "source": [
    "valores = [(alpha, 0.025), (beta, -0.0018), (x_0, 2.56), (t, 60)]\n",
    "en_t60 = sol_particular.subs(valores)\n",
    "en_t60"
   ]
  },
  {
   "cell_type": "code",
   "execution_count": 19,
   "metadata": {},
   "outputs": [
    {
     "data": {
      "text/latex": [
       "$\\displaystyle 4.49422461620145$"
      ],
      "text/plain": [
       "4.49422461620145"
      ]
     },
     "execution_count": 19,
     "metadata": {},
     "output_type": "execute_result"
    }
   ],
   "source": [
    "valores = [(alpha, 0.025), (beta, -0.0018), (x_0, 2.56), (t, 30)]\n",
    "en_t30 = sol_particular.subs(valores)\n",
    "en_t30"
   ]
  },
  {
   "cell_type": "markdown",
   "metadata": {},
   "source": [
    "**Conclusiones:**\n",
    "- Para el año **2010**, las poblaciones que se obtuvieron fueron las siguientes (en mil millones): EEUU: 6,858, NU: 6,916, Derivada de ec cuadratica: 6,988\n",
    "- Para el año **1980**, las poblaciones que se obtuvieron fueron las siguientes (en mil millones): EEUU: 4,451, NU: 4,449, Derivada de ec cuadratica: 4.494"
   ]
  },
  {
   "cell_type": "markdown",
   "metadata": {},
   "source": [
    "Podemos concluir entonces, que este modelo no está tan alejado de la realidad comparando los datos obtenidos."
   ]
  }
 ],
 "metadata": {
  "kernelspec": {
   "display_name": "Python 3",
   "language": "python",
   "name": "python3"
  },
  "language_info": {
   "codemirror_mode": {
    "name": "ipython",
    "version": 3
   },
   "file_extension": ".py",
   "mimetype": "text/x-python",
   "name": "python",
   "nbconvert_exporter": "python",
   "pygments_lexer": "ipython3",
   "version": "3.8.13"
  }
 },
 "nbformat": 4,
 "nbformat_minor": 2
}